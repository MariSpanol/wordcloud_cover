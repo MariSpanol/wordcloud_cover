{
 "metadata": {
  "language_info": {
   "codemirror_mode": {
    "name": "ipython",
    "version": 3
   },
   "file_extension": ".py",
   "mimetype": "text/x-python",
   "name": "python",
   "nbconvert_exporter": "python",
   "pygments_lexer": "ipython3",
   "version": "3.8.8-final"
  },
  "orig_nbformat": 2,
  "kernelspec": {
   "name": "python3",
   "display_name": "Python 3.8.8 64-bit ('minifloor': conda)",
   "metadata": {
    "interpreter": {
     "hash": "c3dc4aeedf5cd300561f0fd5d466f86c282de6261c5284ff8ece43e68c7c23aa"
    }
   }
  }
 },
 "nbformat": 4,
 "nbformat_minor": 2,
 "cells": [
  {
   "cell_type": "code",
   "execution_count": 3,
   "metadata": {},
   "outputs": [],
   "source": [
    "from selenium import webdriver #ele que vai fazer a mágica, sugiro real COMER a documentação do selenium\n",
    "import pandas as pd #transformar em data frame <3\n",
    "import numpy as np #reshape e deixar nossa base 100% fofa e certinha\n",
    "import matplotlib.pyplot as plt #pra ver uns grafin show de bola logo de cara\n",
    "\n",
    "driver = webdriver.Chrome(r'C:\\Users\\mscamargo\\Desktop\\estudos\\python-scraping\\chromedriver') #conector do chrome mas podia ser firefox (se sem o caminho não encontrar seu chrome driver vai ter que apontar a pasta que ele está)\n",
    "driver.implicitly_wait(30) #pedindo pro carinha dar uma esperada antesde carregar tudo pra não gastar a memoria toda"
   ]
  },
  {
   "cell_type": "code",
   "execution_count": 29,
   "metadata": {},
   "outputs": [],
   "source": [
    "# aqui passamos a URL do site com os dados (to usando o site do MS com os dados de covid)\n",
    "driver.get('https://www.linkedin.com/in/mariana-spanol-87172314a/')\n",
    "\n"
   ]
  },
  {
   "cell_type": "code",
   "execution_count": 30,
   "metadata": {},
   "outputs": [
    {
     "output_type": "stream",
     "name": "stdout",
     "text": [
      "Renato Avelar: Partner & Director Of Business Development at B8ONE.\n\n• Ecommerce Specialist\n• Entrepreneur\n• International Speaker\n\nOver 10 years of experience as an e-commerce consultant enabling companies to thrive in the omnichannel environment around 15 countries. Solid knowledge in the fields of:\n• Ecommerce business consulting\n• Ecommerce implementation and platforms\n• Business Analytics\n• Web Performance Optimization\n• SEO\n• CRO.\n"
     ]
    }
   ],
   "source": [
    "for elem in driver.find_elements_by_xpath('.//span[@class = \"lt-line-clamp__raw-line\"]'):\n",
    "    print(elem.text)"
   ]
  },
  {
   "cell_type": "code",
   "execution_count": 25,
   "metadata": {},
   "outputs": [],
   "source": [
    "df = pd.DataFrame([elem.text])"
   ]
  },
  {
   "cell_type": "code",
   "execution_count": 27,
   "metadata": {},
   "outputs": [],
   "source": [
    "df.to_csv(r'about.txt', header=None, index=None, mode='a')"
   ]
  },
  {
   "cell_type": "code",
   "execution_count": null,
   "metadata": {},
   "outputs": [],
   "source": []
  }
 ]
}