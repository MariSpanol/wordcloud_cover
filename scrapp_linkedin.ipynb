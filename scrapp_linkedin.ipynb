{
 "metadata": {
  "language_info": {
   "codemirror_mode": {
    "name": "ipython",
    "version": 3
   },
   "file_extension": ".py",
   "mimetype": "text/x-python",
   "name": "python",
   "nbconvert_exporter": "python",
   "pygments_lexer": "ipython3",
   "version": "3.8.8-final"
  },
  "orig_nbformat": 2,
  "kernelspec": {
   "name": "python3",
   "display_name": "Python 3.8.8 64-bit ('minifloor': conda)",
   "metadata": {
    "interpreter": {
     "hash": "c3dc4aeedf5cd300561f0fd5d466f86c282de6261c5284ff8ece43e68c7c23aa"
    }
   }
  }
 },
 "nbformat": 4,
 "nbformat_minor": 2,
 "cells": [
  {
   "source": [
    "## Passo 1\n",
    "Scrapping do texto do LinkedIn para usar na wordcloud (é bem rapidinho e fácil) "
   ],
   "cell_type": "markdown",
   "metadata": {}
  },
  {
   "cell_type": "code",
   "execution_count": 8,
   "metadata": {},
   "outputs": [],
   "source": [
    "from selenium import webdriver #ele que vai fazer a mágica, sugiro real COMER a documentação do selenium\n",
    "import pandas as pd #transformar em data frame <3\n",
    "\n",
    "\n",
    "driver = webdriver.Chrome() #conector do chrome mas podia ser firefox (se sem o caminho não encontrar seu chrome driver vai ter que apontar a pasta que ele está)\n",
    "driver.implicitly_wait(30) #pedindo pro carinha dar uma esperada antes de carregar tudo pra não gastar a memoria toda"
   ]
  },
  {
   "cell_type": "code",
   "execution_count": 9,
   "metadata": {},
   "outputs": [],
   "source": [
    "# aqui passamos a URL do site com os dados (no caso meu linkedin)\n",
    "driver.get('https://www.linkedin.com/in/mariana-spanol-87172314a/')\n",
    "\n"
   ]
  },
  {
   "cell_type": "code",
   "execution_count": 10,
   "metadata": {},
   "outputs": [
    {
     "output_type": "stream",
     "name": "stdout",
     "text": [
      "Utilizo matemática e estatística aliadas a modelagem de dados e aprendizado de máquina para criação de insights e auxílio na tomada de decisão principalmente em empresas no segmento da saúde.\n\nAnálise e visualização de dados com as principais ferramentas de BI: PYTHON, R, STATA, SQL, Power BI, Excel e Tableau.\nNo momento aprendendo ferramentas de big data (Hadoop, Spark e programação Scala); Além de conhecimentos de Machine Learning e Deep Learning.\n\nE principalmente muita garra para lidar e aprender com novos desafios!\n\nkeywords: Data Science, Epidemiology, Big data, data wrangling, statistics, bio estatistics, Analytics, bioinformática, Health, Pesquisa, Researcher, Data lake, business inteligence\n"
     ]
    }
   ],
   "source": [
    "# gerar o texto do about do linkedin (você consegue pegar infos de outros locais, é só inspecionar o codigo que na minha opnião é um dos mais simples)\n",
    "#---------P FAZER A RASPAGEM VOCE PRECISA LOGAR NO LINKEDIN ASSIMQUE ABRIR O CHROME----------\n",
    "for elem in driver.find_elements_by_xpath('.//span[@class = \"lt-line-clamp__raw-line\"]'):\n",
    "    print(elem.text)"
   ]
  },
  {
   "cell_type": "code",
   "execution_count": 11,
   "metadata": {},
   "outputs": [
    {
     "output_type": "execute_result",
     "data": {
      "text/plain": [
       "<selenium.webdriver.remote.webelement.WebElement (session=\"33f65e6cd6a1c7d7d9c8c88d7fd3fd6d\", element=\"e1367361-f0ce-42ef-b7e3-db17abb9c935\")>"
      ]
     },
     "metadata": {},
     "execution_count": 11
    }
   ],
   "source": [
    "elem"
   ]
  },
  {
   "cell_type": "code",
   "execution_count": 12,
   "metadata": {},
   "outputs": [],
   "source": [
    "# jogar o texto em um dataframe\n",
    "df = pd.DataFrame([elem.text])"
   ]
  },
  {
   "cell_type": "code",
   "execution_count": 13,
   "metadata": {},
   "outputs": [],
   "source": [
    "# salvar para usar na nossa Wordcloud do amor\n",
    "df.to_csv(r'about.txt', header=None, index=None, mode='a')"
   ]
  },
  {
   "cell_type": "code",
   "execution_count": null,
   "metadata": {},
   "outputs": [],
   "source": []
  }
 ]
}